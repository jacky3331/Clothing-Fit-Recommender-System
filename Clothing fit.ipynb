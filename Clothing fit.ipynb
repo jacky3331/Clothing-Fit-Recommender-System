{
 "cells": [
  {
   "cell_type": "code",
   "execution_count": 29,
   "id": "ea7e75f8",
   "metadata": {},
   "outputs": [],
   "source": [
    "import gzip\n",
    "from collections import defaultdict\n",
    "from sklearn import linear_model\n",
    "import csv\n",
    "import pandas as pd\n",
    "import numpy as np\n",
    "\n",
    "def readJSON(path):\n",
    "    null = None\n",
    "    \n",
    "    for l in gzip.open(path, 'rt'):\n",
    "        yield eval(l)\n",
    "\n",
    "        \n",
    "\n"
   ]
  },
  {
   "cell_type": "code",
   "execution_count": 22,
   "id": "d02b98aa",
   "metadata": {},
   "outputs": [],
   "source": [
    "data = list(readJSON(\"renttherunway_final_data.json.gz\"))"
   ]
  },
  {
   "cell_type": "code",
   "execution_count": 23,
   "id": "7bb7584e",
   "metadata": {},
   "outputs": [],
   "source": [
    "data = pd.DataFrame(data)\n",
    "data = data.dropna()"
   ]
  },
  {
   "cell_type": "code",
   "execution_count": 30,
   "id": "186635ef",
   "metadata": {},
   "outputs": [
    {
     "data": {
      "text/plain": [
       "array(['ballgown', 'blazer', 'blouse', 'blouson', 'bomber', 'buttondown',\n",
       "       'caftan', 'cami', 'cape', 'cardigan', 'coat', 'combo', 'crewneck',\n",
       "       'culotte', 'culottes', 'down', 'dress', 'duster', 'for', 'frock',\n",
       "       'gown', 'henley', 'hoodie', 'jacket', 'jeans', 'jogger',\n",
       "       'jumpsuit', 'kaftan', 'kimono', 'knit', 'legging', 'leggings',\n",
       "       'maxi', 'midi', 'mini', 'overalls', 'overcoat', 'pant', 'pants',\n",
       "       'parka', 'peacoat', 'poncho', 'print', 'pullover', 'romper',\n",
       "       'sheath', 'shift', 'shirt', 'shirtdress', 'skirt', 'skirts',\n",
       "       'skort', 'suit', 'sweater', 'sweatershirt', 'sweatpants',\n",
       "       'sweatshirt', 't-shirt', 'tank', 'tee', 'tight', 'top', 'trench',\n",
       "       'trouser', 'trousers', 'tunic', 'turtleneck', 'vest'], dtype=object)"
      ]
     },
     "execution_count": 30,
     "metadata": {},
     "output_type": "execute_result"
    }
   ],
   "source": [
    "np.unique(data[\"category\"])"
   ]
  },
  {
   "cell_type": "code",
   "execution_count": null,
   "id": "84b0d0da",
   "metadata": {},
   "outputs": [],
   "source": []
  }
 ],
 "metadata": {
  "kernelspec": {
   "display_name": "Python 3 (clean)",
   "language": "python",
   "name": "python3_clean"
  },
  "language_info": {
   "codemirror_mode": {
    "name": "ipython",
    "version": 3
   },
   "file_extension": ".py",
   "mimetype": "text/x-python",
   "name": "python",
   "nbconvert_exporter": "python",
   "pygments_lexer": "ipython3",
   "version": "3.9.5"
  }
 },
 "nbformat": 4,
 "nbformat_minor": 5
}
