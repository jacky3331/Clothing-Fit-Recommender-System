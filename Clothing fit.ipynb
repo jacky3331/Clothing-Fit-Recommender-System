{
 "cells": [
  {
   "cell_type": "code",
   "execution_count": 1,
   "id": "ea7e75f8",
   "metadata": {},
   "outputs": [],
   "source": [
    "import gzip\n",
    "from collections import defaultdict\n",
    "from sklearn import linear_model\n",
    "import csv\n",
    "import pandas as pd\n",
    "import numpy as np\n",
    "import sklearn\n",
    "import random\n",
    "\n",
    "from sklearn.model_selection import train_test_split\n",
    "\n",
    "def readJSON(path):\n",
    "    null = None\n",
    "    \n",
    "    for l in gzip.open(path, 'rt'):\n",
    "        yield eval(l)\n",
    "\n",
    "        \n",
    "\n"
   ]
  },
  {
   "cell_type": "code",
   "execution_count": 2,
   "id": "d02b98aa",
   "metadata": {},
   "outputs": [],
   "source": [
    "data = list(readJSON(\"renttherunway_final_data.json.gz\"))\n",
    "# data = list(readJSON(\"modcloth_final_data.json.gz\"))"
   ]
  },
  {
   "cell_type": "code",
   "execution_count": 3,
   "id": "93024284",
   "metadata": {},
   "outputs": [
    {
     "data": {
      "text/plain": [
       "192544"
      ]
     },
     "execution_count": 3,
     "metadata": {},
     "output_type": "execute_result"
    }
   ],
   "source": [
    "data = pd.DataFrame(data)\n",
    "len(data)"
   ]
  },
  {
   "cell_type": "code",
   "execution_count": 4,
   "id": "028b936c",
   "metadata": {},
   "outputs": [
    {
     "data": {
      "text/plain": [
       "46163"
      ]
     },
     "execution_count": 4,
     "metadata": {},
     "output_type": "execute_result"
    }
   ],
   "source": [
    "# Number of rows w/ missing entries\n",
    "data.isna().any(axis=1).sum()"
   ]
  },
  {
   "cell_type": "code",
   "execution_count": 5,
   "id": "9a06ecb4",
   "metadata": {},
   "outputs": [
    {
     "data": {
      "text/plain": [
       "64759"
      ]
     },
     "execution_count": 5,
     "metadata": {},
     "output_type": "execute_result"
    }
   ],
   "source": [
    "# Number of missing entries\n",
    "data.isna().sum().sum()"
   ]
  },
  {
   "cell_type": "code",
   "execution_count": 6,
   "id": "36be9d49",
   "metadata": {},
   "outputs": [],
   "source": [
    "data = data.dropna(subset=[\"fit\", \"bust size\", \"weight\", \"rented for\", \"body type\", \"category\", \"height\", \"size\", \"age\"])"
   ]
  },
  {
   "cell_type": "code",
   "execution_count": 7,
   "id": "c959a77b",
   "metadata": {},
   "outputs": [
    {
     "data": {
      "text/plain": [
       "146431"
      ]
     },
     "execution_count": 7,
     "metadata": {},
     "output_type": "execute_result"
    }
   ],
   "source": [
    "len(data)"
   ]
  },
  {
   "cell_type": "code",
   "execution_count": 8,
   "id": "64a2dab1",
   "metadata": {},
   "outputs": [
    {
     "data": {
      "text/plain": [
       "46163"
      ]
     },
     "execution_count": 8,
     "metadata": {},
     "output_type": "execute_result"
    }
   ],
   "source": [
    "192544-146381"
   ]
  },
  {
   "cell_type": "code",
   "execution_count": 9,
   "id": "7c50ce4f",
   "metadata": {},
   "outputs": [
    {
     "data": {
      "text/plain": [
       "array(['ballgown', 'blazer', 'blouse', 'blouson', 'bomber', 'buttondown',\n",
       "       'caftan', 'cami', 'cape', 'cardigan', 'coat', 'combo', 'crewneck',\n",
       "       'culotte', 'culottes', 'down', 'dress', 'duster', 'for', 'frock',\n",
       "       'gown', 'henley', 'hoodie', 'jacket', 'jeans', 'jogger',\n",
       "       'jumpsuit', 'kaftan', 'kimono', 'knit', 'legging', 'leggings',\n",
       "       'maxi', 'midi', 'mini', 'overalls', 'overcoat', 'pant', 'pants',\n",
       "       'parka', 'peacoat', 'poncho', 'print', 'pullover', 'romper',\n",
       "       'sheath', 'shift', 'shirt', 'shirtdress', 'skirt', 'skirts',\n",
       "       'skort', 'suit', 'sweater', 'sweatershirt', 'sweatpants',\n",
       "       'sweatshirt', 't-shirt', 'tank', 'tee', 'tight', 'top', 'trench',\n",
       "       'trouser', 'trousers', 'tunic', 'turtleneck', 'vest'], dtype=object)"
      ]
     },
     "execution_count": 9,
     "metadata": {},
     "output_type": "execute_result"
    }
   ],
   "source": [
    "np.unique(data[\"category\"])"
   ]
  },
  {
   "cell_type": "code",
   "execution_count": 10,
   "id": "d83ba445",
   "metadata": {},
   "outputs": [
    {
     "data": {
      "text/html": [
       "<div>\n",
       "<style scoped>\n",
       "    .dataframe tbody tr th:only-of-type {\n",
       "        vertical-align: middle;\n",
       "    }\n",
       "\n",
       "    .dataframe tbody tr th {\n",
       "        vertical-align: top;\n",
       "    }\n",
       "\n",
       "    .dataframe thead th {\n",
       "        text-align: right;\n",
       "    }\n",
       "</style>\n",
       "<table border=\"1\" class=\"dataframe\">\n",
       "  <thead>\n",
       "    <tr style=\"text-align: right;\">\n",
       "      <th></th>\n",
       "      <th>fit</th>\n",
       "      <th>user_id</th>\n",
       "      <th>bust size</th>\n",
       "      <th>item_id</th>\n",
       "      <th>weight</th>\n",
       "      <th>rating</th>\n",
       "      <th>rented for</th>\n",
       "      <th>review_text</th>\n",
       "      <th>body type</th>\n",
       "      <th>review_summary</th>\n",
       "      <th>category</th>\n",
       "      <th>height</th>\n",
       "      <th>size</th>\n",
       "      <th>age</th>\n",
       "      <th>review_date</th>\n",
       "    </tr>\n",
       "  </thead>\n",
       "  <tbody>\n",
       "    <tr>\n",
       "      <th>0</th>\n",
       "      <td>fit</td>\n",
       "      <td>420272</td>\n",
       "      <td>34d</td>\n",
       "      <td>2260466</td>\n",
       "      <td>137lbs</td>\n",
       "      <td>10</td>\n",
       "      <td>vacation</td>\n",
       "      <td>An adorable romper! Belt and zipper were a lit...</td>\n",
       "      <td>hourglass</td>\n",
       "      <td>So many compliments!</td>\n",
       "      <td>romper</td>\n",
       "      <td>5' 8\"</td>\n",
       "      <td>14</td>\n",
       "      <td>28</td>\n",
       "      <td>April 20, 2016</td>\n",
       "    </tr>\n",
       "    <tr>\n",
       "      <th>1</th>\n",
       "      <td>fit</td>\n",
       "      <td>273551</td>\n",
       "      <td>34b</td>\n",
       "      <td>153475</td>\n",
       "      <td>132lbs</td>\n",
       "      <td>10</td>\n",
       "      <td>other</td>\n",
       "      <td>I rented this dress for a photo shoot. The the...</td>\n",
       "      <td>straight &amp; narrow</td>\n",
       "      <td>I felt so glamourous!!!</td>\n",
       "      <td>gown</td>\n",
       "      <td>5' 6\"</td>\n",
       "      <td>12</td>\n",
       "      <td>36</td>\n",
       "      <td>June 18, 2013</td>\n",
       "    </tr>\n",
       "    <tr>\n",
       "      <th>3</th>\n",
       "      <td>fit</td>\n",
       "      <td>909926</td>\n",
       "      <td>34c</td>\n",
       "      <td>126335</td>\n",
       "      <td>135lbs</td>\n",
       "      <td>8</td>\n",
       "      <td>formal affair</td>\n",
       "      <td>I rented this for my company's black tie award...</td>\n",
       "      <td>pear</td>\n",
       "      <td>Dress arrived on time and in perfect condition.</td>\n",
       "      <td>dress</td>\n",
       "      <td>5' 5\"</td>\n",
       "      <td>8</td>\n",
       "      <td>34</td>\n",
       "      <td>February 12, 2014</td>\n",
       "    </tr>\n",
       "    <tr>\n",
       "      <th>4</th>\n",
       "      <td>fit</td>\n",
       "      <td>151944</td>\n",
       "      <td>34b</td>\n",
       "      <td>616682</td>\n",
       "      <td>145lbs</td>\n",
       "      <td>10</td>\n",
       "      <td>wedding</td>\n",
       "      <td>I have always been petite in my upper body and...</td>\n",
       "      <td>athletic</td>\n",
       "      <td>Was in love with this dress !!!</td>\n",
       "      <td>gown</td>\n",
       "      <td>5' 9\"</td>\n",
       "      <td>12</td>\n",
       "      <td>27</td>\n",
       "      <td>September 26, 2016</td>\n",
       "    </tr>\n",
       "    <tr>\n",
       "      <th>5</th>\n",
       "      <td>fit</td>\n",
       "      <td>734848</td>\n",
       "      <td>32b</td>\n",
       "      <td>364092</td>\n",
       "      <td>138lbs</td>\n",
       "      <td>8</td>\n",
       "      <td>date</td>\n",
       "      <td>Didn't actually wear it. It fit perfectly. The...</td>\n",
       "      <td>athletic</td>\n",
       "      <td>Traditional with a touch a sass</td>\n",
       "      <td>dress</td>\n",
       "      <td>5' 8\"</td>\n",
       "      <td>8</td>\n",
       "      <td>45</td>\n",
       "      <td>April 30, 2016</td>\n",
       "    </tr>\n",
       "  </tbody>\n",
       "</table>\n",
       "</div>"
      ],
      "text/plain": [
       "   fit user_id bust size  item_id  weight rating     rented for  \\\n",
       "0  fit  420272       34d  2260466  137lbs     10       vacation   \n",
       "1  fit  273551       34b   153475  132lbs     10          other   \n",
       "3  fit  909926       34c   126335  135lbs      8  formal affair   \n",
       "4  fit  151944       34b   616682  145lbs     10        wedding   \n",
       "5  fit  734848       32b   364092  138lbs      8           date   \n",
       "\n",
       "                                         review_text          body type  \\\n",
       "0  An adorable romper! Belt and zipper were a lit...          hourglass   \n",
       "1  I rented this dress for a photo shoot. The the...  straight & narrow   \n",
       "3  I rented this for my company's black tie award...               pear   \n",
       "4  I have always been petite in my upper body and...           athletic   \n",
       "5  Didn't actually wear it. It fit perfectly. The...           athletic   \n",
       "\n",
       "                                     review_summary category height  size age  \\\n",
       "0                              So many compliments!   romper  5' 8\"    14  28   \n",
       "1                           I felt so glamourous!!!     gown  5' 6\"    12  36   \n",
       "3  Dress arrived on time and in perfect condition.     dress  5' 5\"     8  34   \n",
       "4                   Was in love with this dress !!!     gown  5' 9\"    12  27   \n",
       "5                   Traditional with a touch a sass    dress  5' 8\"     8  45   \n",
       "\n",
       "          review_date  \n",
       "0      April 20, 2016  \n",
       "1       June 18, 2013  \n",
       "3   February 12, 2014  \n",
       "4  September 26, 2016  \n",
       "5      April 30, 2016  "
      ]
     },
     "execution_count": 10,
     "metadata": {},
     "output_type": "execute_result"
    }
   ],
   "source": [
    "data.head()"
   ]
  },
  {
   "cell_type": "code",
   "execution_count": 11,
   "id": "2416ffe4",
   "metadata": {},
   "outputs": [],
   "source": [
    "def standardize_height(str_in):\n",
    "    if \"\\'\" in str_in:\n",
    "        str_in = str_in.replace('\"', \"\")\n",
    "        str_in = str_in.split(\"\\' \")\n",
    "        str_in = int(str_in[0])*12 + int(str_in[1])\n",
    "        \n",
    "        output = str_in\n",
    "    \n",
    "    return output"
   ]
  },
  {
   "cell_type": "code",
   "execution_count": 12,
   "id": "419d3c2f",
   "metadata": {},
   "outputs": [],
   "source": [
    "data[\"height\"] = data[\"height\"].apply(standardize_height)"
   ]
  },
  {
   "cell_type": "code",
   "execution_count": 13,
   "id": "72d08b8a",
   "metadata": {},
   "outputs": [],
   "source": [
    "def standardize_weight(str_in):\n",
    "    if \"lbs\" in str_in:\n",
    "        str_in = str_in.replace(\"lbs\", \"\")\n",
    "        output = int(str_in)\n",
    "    \n",
    "    return output"
   ]
  },
  {
   "cell_type": "code",
   "execution_count": 14,
   "id": "5a36ad61",
   "metadata": {},
   "outputs": [],
   "source": [
    "data[\"weight\"] = data[\"weight\"].apply(standardize_weight)"
   ]
  },
  {
   "cell_type": "code",
   "execution_count": 15,
   "id": "bd225a37",
   "metadata": {},
   "outputs": [],
   "source": [
    "def standardize_fit(str_in):\n",
    "    if \"small\" in str_in:\n",
    "        output = 0\n",
    "    elif \"fit\" in str_in:\n",
    "        output = 1\n",
    "    elif \"large\" in str_in:\n",
    "        output = 2\n",
    "    return output"
   ]
  },
  {
   "cell_type": "code",
   "execution_count": 16,
   "id": "106d50c9",
   "metadata": {},
   "outputs": [],
   "source": [
    "data[\"fit\"] = data[\"fit\"].apply(standardize_fit)"
   ]
  },
  {
   "cell_type": "code",
   "execution_count": 17,
   "id": "0526c25f",
   "metadata": {},
   "outputs": [],
   "source": [
    "def standardize_size(str_in):\n",
    "    output = int(str_in)\n",
    "    return output"
   ]
  },
  {
   "cell_type": "code",
   "execution_count": 18,
   "id": "e41d8f05",
   "metadata": {},
   "outputs": [],
   "source": [
    "data[\"size\"] = data[\"size\"].apply(standardize_size)"
   ]
  },
  {
   "cell_type": "code",
   "execution_count": 19,
   "id": "071f17ea",
   "metadata": {},
   "outputs": [],
   "source": [
    "def standardize_age(str_in):\n",
    "    output = int(str_in)\n",
    "    return output"
   ]
  },
  {
   "cell_type": "code",
   "execution_count": 20,
   "id": "1d608f31",
   "metadata": {},
   "outputs": [],
   "source": [
    "data[\"age\"] = data[\"age\"].apply(standardize_age)"
   ]
  },
  {
   "cell_type": "code",
   "execution_count": 21,
   "id": "9dcbdad0",
   "metadata": {},
   "outputs": [
    {
     "data": {
      "text/plain": [
       "array(['apple', 'athletic', 'full bust', 'hourglass', 'pear', 'petite',\n",
       "       'straight & narrow'], dtype=object)"
      ]
     },
     "execution_count": 21,
     "metadata": {},
     "output_type": "execute_result"
    }
   ],
   "source": [
    "np.unique(data[\"body type\"])"
   ]
  },
  {
   "cell_type": "code",
   "execution_count": 22,
   "id": "a4990294",
   "metadata": {},
   "outputs": [],
   "source": [
    "def standardize_body(str_in):\n",
    "    if \"apple\" in str_in:\n",
    "        output = 0\n",
    "    elif \"athletic\" in str_in:\n",
    "        output = 1\n",
    "    elif \"full bust\" in str_in:\n",
    "        output = 2\n",
    "    elif \"hourglass\" in str_in:\n",
    "        output = 3\n",
    "    elif \"pear\" in str_in:\n",
    "        output = 4\n",
    "    elif \"petite\" in str_in:\n",
    "        output = 5\n",
    "    elif \"straight & narrow\" in str_in:\n",
    "        output = 6\n",
    "    return output"
   ]
  },
  {
   "cell_type": "code",
   "execution_count": 23,
   "id": "dcef6b6c",
   "metadata": {},
   "outputs": [],
   "source": [
    "data[\"body type\"] = data[\"body type\"].apply(standardize_body)"
   ]
  },
  {
   "cell_type": "code",
   "execution_count": 24,
   "id": "ab0e2a3d",
   "metadata": {},
   "outputs": [],
   "source": [
    "clothing_dict = dict(enumerate(np.unique(data[\"category\"])))\n",
    "clothing_dict = dict((v,k) for k,v in clothing_dict.items())"
   ]
  },
  {
   "cell_type": "code",
   "execution_count": 25,
   "id": "e1d56974",
   "metadata": {},
   "outputs": [],
   "source": [
    "def standardize_clothing(str_in):\n",
    "    if str_in in list(clothing_dict.keys()):\n",
    "        output = clothing_dict[str_in]\n",
    "    \n",
    "    return output"
   ]
  },
  {
   "cell_type": "code",
   "execution_count": 26,
   "id": "6cd2f7c1",
   "metadata": {},
   "outputs": [],
   "source": [
    "data[\"category\"] = data[\"category\"].apply(standardize_clothing)"
   ]
  },
  {
   "cell_type": "code",
   "execution_count": 27,
   "id": "418640e2",
   "metadata": {},
   "outputs": [
    {
     "data": {
      "text/plain": [
       "array(['28a', '28aa', '28b', '28c', '28d', '28dd', '28ddd/e', '28f',\n",
       "       '28g', '28h', '30a', '30aa', '30b', '30c', '30d', '30dd',\n",
       "       '30ddd/e', '30f', '30g', '30h', '30i', '32a', '32aa', '32b', '32c',\n",
       "       '32d', '32d+', '32dd', '32ddd/e', '32f', '32g', '32h', '32i',\n",
       "       '32j', '34a', '34aa', '34b', '34c', '34d', '34d+', '34dd',\n",
       "       '34ddd/e', '34f', '34g', '34h', '34i', '34j', '36a', '36aa', '36b',\n",
       "       '36c', '36d', '36d+', '36dd', '36ddd/e', '36f', '36g', '36h',\n",
       "       '36i', '36j', '38a', '38aa', '38b', '38c', '38d', '38d+', '38dd',\n",
       "       '38ddd/e', '38f', '38g', '38h', '38i', '38j', '40b', '40c', '40d',\n",
       "       '40dd', '40ddd/e', '40f', '40g', '40h', '40j', '42b', '42c', '42d',\n",
       "       '42dd', '42ddd/e', '42f', '42g', '42j', '44b', '44c', '44d',\n",
       "       '44dd', '44ddd/e', '44f', '44g', '44h', '46ddd/e', '48d', '48dd'],\n",
       "      dtype=object)"
      ]
     },
     "execution_count": 27,
     "metadata": {},
     "output_type": "execute_result"
    }
   ],
   "source": [
    "np.unique(data[\"bust size\"])"
   ]
  },
  {
   "cell_type": "code",
   "execution_count": 28,
   "id": "689a15e4",
   "metadata": {},
   "outputs": [],
   "source": [
    "def standardize_bust(str_in):\n",
    "    output = str_in[:2]\n",
    "    output += \"-\"\n",
    "    \n",
    "    if str_in[2:] == \"a\":\n",
    "        output += \"0\"\n",
    "    elif str_in[2:] == \"aa\":\n",
    "        output += \"1\"\n",
    "    elif str_in[2:] == \"b\":\n",
    "        output += \"2\"\n",
    "    elif str_in[2:] == \"c\":\n",
    "        output += \"3\"\n",
    "    elif str_in[2:] == \"d\":\n",
    "        output += \"4\"\n",
    "    elif str_in[2:] == \"e\":\n",
    "        output += \"5\"\n",
    "    elif str_in[2:] == \"d+\":\n",
    "        output += \"6\"\n",
    "    elif str_in[2:] == \"ddd/e\":\n",
    "        output += \"7\"\n",
    "    elif str_in[2:] == \"f\":\n",
    "        output += \"8\"\n",
    "    elif str_in[2:] == \"g\":\n",
    "        output += \"9\"\n",
    "    elif str_in[2:] == \"h\":\n",
    "        output += \"10\"\n",
    "    elif str_in[2:] == \"i\":\n",
    "        output += \"11\"\n",
    "    \n",
    "    return output"
   ]
  },
  {
   "cell_type": "code",
   "execution_count": 29,
   "id": "ab6448e4",
   "metadata": {},
   "outputs": [],
   "source": [
    "data[\"bust size\"] = data[\"bust size\"].apply(standardize_bust)"
   ]
  },
  {
   "cell_type": "code",
   "execution_count": 30,
   "id": "d7561b2e",
   "metadata": {},
   "outputs": [
    {
     "data": {
      "text/plain": [
       "array(['date', 'everyday', 'formal affair', 'other', 'party',\n",
       "       'party: cocktail', 'vacation', 'wedding', 'work'], dtype=object)"
      ]
     },
     "execution_count": 30,
     "metadata": {},
     "output_type": "execute_result"
    }
   ],
   "source": [
    "np.unique(data[\"rented for\"])"
   ]
  },
  {
   "cell_type": "code",
   "execution_count": 31,
   "id": "0ea29c71",
   "metadata": {},
   "outputs": [],
   "source": [
    "def standardize_rent(str_in):\n",
    "    if \"date\" in str_in:\n",
    "        output = 0\n",
    "    elif \"everyday\" in str_in:\n",
    "        output = 1\n",
    "    elif \"formal affair\" in str_in:\n",
    "        output = 2\n",
    "    elif \"other\" in str_in:\n",
    "        output = 3\n",
    "    elif \"party\" in str_in:\n",
    "        output = 4\n",
    "    elif \"party: cocktail\" in str_in:\n",
    "        output = 5\n",
    "    elif \"vacation\" in str_in:\n",
    "        output = 6\n",
    "    elif \"wedding\" in str_in:\n",
    "        output = 7\n",
    "    elif \"work\" in str_in:\n",
    "        output = 8\n",
    "    return output"
   ]
  },
  {
   "cell_type": "code",
   "execution_count": 32,
   "id": "13228408",
   "metadata": {},
   "outputs": [],
   "source": [
    "data[\"rented for\"] = data[\"rented for\"].apply(standardize_rent)"
   ]
  },
  {
   "cell_type": "code",
   "execution_count": 33,
   "id": "ee6d2643",
   "metadata": {},
   "outputs": [
    {
     "data": {
      "text/html": [
       "<div>\n",
       "<style scoped>\n",
       "    .dataframe tbody tr th:only-of-type {\n",
       "        vertical-align: middle;\n",
       "    }\n",
       "\n",
       "    .dataframe tbody tr th {\n",
       "        vertical-align: top;\n",
       "    }\n",
       "\n",
       "    .dataframe thead th {\n",
       "        text-align: right;\n",
       "    }\n",
       "</style>\n",
       "<table border=\"1\" class=\"dataframe\">\n",
       "  <thead>\n",
       "    <tr style=\"text-align: right;\">\n",
       "      <th></th>\n",
       "      <th>fit</th>\n",
       "      <th>user_id</th>\n",
       "      <th>bust size</th>\n",
       "      <th>item_id</th>\n",
       "      <th>weight</th>\n",
       "      <th>rating</th>\n",
       "      <th>rented for</th>\n",
       "      <th>review_text</th>\n",
       "      <th>body type</th>\n",
       "      <th>review_summary</th>\n",
       "      <th>category</th>\n",
       "      <th>height</th>\n",
       "      <th>size</th>\n",
       "      <th>age</th>\n",
       "      <th>review_date</th>\n",
       "    </tr>\n",
       "  </thead>\n",
       "  <tbody>\n",
       "    <tr>\n",
       "      <th>0</th>\n",
       "      <td>1</td>\n",
       "      <td>420272</td>\n",
       "      <td>34-4</td>\n",
       "      <td>2260466</td>\n",
       "      <td>137</td>\n",
       "      <td>10</td>\n",
       "      <td>6</td>\n",
       "      <td>An adorable romper! Belt and zipper were a lit...</td>\n",
       "      <td>3</td>\n",
       "      <td>So many compliments!</td>\n",
       "      <td>44</td>\n",
       "      <td>68</td>\n",
       "      <td>14</td>\n",
       "      <td>28</td>\n",
       "      <td>April 20, 2016</td>\n",
       "    </tr>\n",
       "    <tr>\n",
       "      <th>1</th>\n",
       "      <td>1</td>\n",
       "      <td>273551</td>\n",
       "      <td>34-2</td>\n",
       "      <td>153475</td>\n",
       "      <td>132</td>\n",
       "      <td>10</td>\n",
       "      <td>3</td>\n",
       "      <td>I rented this dress for a photo shoot. The the...</td>\n",
       "      <td>6</td>\n",
       "      <td>I felt so glamourous!!!</td>\n",
       "      <td>20</td>\n",
       "      <td>66</td>\n",
       "      <td>12</td>\n",
       "      <td>36</td>\n",
       "      <td>June 18, 2013</td>\n",
       "    </tr>\n",
       "    <tr>\n",
       "      <th>3</th>\n",
       "      <td>1</td>\n",
       "      <td>909926</td>\n",
       "      <td>34-3</td>\n",
       "      <td>126335</td>\n",
       "      <td>135</td>\n",
       "      <td>8</td>\n",
       "      <td>2</td>\n",
       "      <td>I rented this for my company's black tie award...</td>\n",
       "      <td>4</td>\n",
       "      <td>Dress arrived on time and in perfect condition.</td>\n",
       "      <td>16</td>\n",
       "      <td>65</td>\n",
       "      <td>8</td>\n",
       "      <td>34</td>\n",
       "      <td>February 12, 2014</td>\n",
       "    </tr>\n",
       "    <tr>\n",
       "      <th>4</th>\n",
       "      <td>1</td>\n",
       "      <td>151944</td>\n",
       "      <td>34-2</td>\n",
       "      <td>616682</td>\n",
       "      <td>145</td>\n",
       "      <td>10</td>\n",
       "      <td>7</td>\n",
       "      <td>I have always been petite in my upper body and...</td>\n",
       "      <td>1</td>\n",
       "      <td>Was in love with this dress !!!</td>\n",
       "      <td>20</td>\n",
       "      <td>69</td>\n",
       "      <td>12</td>\n",
       "      <td>27</td>\n",
       "      <td>September 26, 2016</td>\n",
       "    </tr>\n",
       "    <tr>\n",
       "      <th>5</th>\n",
       "      <td>1</td>\n",
       "      <td>734848</td>\n",
       "      <td>32-2</td>\n",
       "      <td>364092</td>\n",
       "      <td>138</td>\n",
       "      <td>8</td>\n",
       "      <td>0</td>\n",
       "      <td>Didn't actually wear it. It fit perfectly. The...</td>\n",
       "      <td>1</td>\n",
       "      <td>Traditional with a touch a sass</td>\n",
       "      <td>16</td>\n",
       "      <td>68</td>\n",
       "      <td>8</td>\n",
       "      <td>45</td>\n",
       "      <td>April 30, 2016</td>\n",
       "    </tr>\n",
       "  </tbody>\n",
       "</table>\n",
       "</div>"
      ],
      "text/plain": [
       "   fit user_id bust size  item_id  weight rating  rented for  \\\n",
       "0    1  420272      34-4  2260466     137     10           6   \n",
       "1    1  273551      34-2   153475     132     10           3   \n",
       "3    1  909926      34-3   126335     135      8           2   \n",
       "4    1  151944      34-2   616682     145     10           7   \n",
       "5    1  734848      32-2   364092     138      8           0   \n",
       "\n",
       "                                         review_text  body type  \\\n",
       "0  An adorable romper! Belt and zipper were a lit...          3   \n",
       "1  I rented this dress for a photo shoot. The the...          6   \n",
       "3  I rented this for my company's black tie award...          4   \n",
       "4  I have always been petite in my upper body and...          1   \n",
       "5  Didn't actually wear it. It fit perfectly. The...          1   \n",
       "\n",
       "                                     review_summary  category  height  size  \\\n",
       "0                              So many compliments!        44      68    14   \n",
       "1                           I felt so glamourous!!!        20      66    12   \n",
       "3  Dress arrived on time and in perfect condition.         16      65     8   \n",
       "4                   Was in love with this dress !!!        20      69    12   \n",
       "5                   Traditional with a touch a sass        16      68     8   \n",
       "\n",
       "   age         review_date  \n",
       "0   28      April 20, 2016  \n",
       "1   36       June 18, 2013  \n",
       "3   34   February 12, 2014  \n",
       "4   27  September 26, 2016  \n",
       "5   45      April 30, 2016  "
      ]
     },
     "execution_count": 33,
     "metadata": {},
     "output_type": "execute_result"
    }
   ],
   "source": [
    "data.head()"
   ]
  },
  {
   "cell_type": "code",
   "execution_count": 34,
   "id": "e31ed063",
   "metadata": {},
   "outputs": [],
   "source": [
    "data = data.to_dict('records')"
   ]
  },
  {
   "cell_type": "code",
   "execution_count": 36,
   "id": "7fdc35bd",
   "metadata": {},
   "outputs": [],
   "source": [
    "mean_weight = np.mean([i[\"weight\"] for i in data])\n",
    "std_weight = np.std([i[\"weight\"] for i in data])\n",
    "\n",
    "mean_height = np.mean([i[\"height\"] for i in data])\n",
    "std_height = np.std([i[\"height\"] for i in data])\n",
    "\n",
    "mean_size = np.mean([i[\"size\"] for i in data])\n",
    "std_size = np.std([i[\"size\"] for i in data])"
   ]
  },
  {
   "cell_type": "code",
   "execution_count": 37,
   "id": "652dea91",
   "metadata": {},
   "outputs": [],
   "source": [
    "def feat(datum):\n",
    "    body = [0]*7\n",
    "    body[datum[\"body type\"]] = 1\n",
    "    body = body[:6]\n",
    "    \n",
    "    category = [0]*69\n",
    "    category[datum[\"category\"]] = 1\n",
    "    category = category[:68]\n",
    "    \n",
    "    # bust_list is a list where [a, b] a is the cup size, b is the bust size?\n",
    "    bust_list = datum[\"bust size\"].split(\"-\")\n",
    "    \n",
    "    bust = [0]*12\n",
    "    if bust_list[1] != \"\":\n",
    "        bust[int(bust_list[1])] = 1\n",
    "        \n",
    "    rent = [0]*9\n",
    "    rent[datum[\"rented for\"]] = 1\n",
    "    rent = rent[:8]\n",
    "    \n",
    "#     return [1] + [datum[\"height\"]] + [datum[\"weight\"]] + [datum[\"size\"]] + [datum[\"age\"]] + [int(bust_list[0])] + body + bust + category + rent\n",
    "    return [1] + [(datum[\"height\"] - mean_height)/std_height] + [(datum[\"weight\"] - mean_weight)/std_weight] + [(datum[\"size\"] - mean_size)/std_size] + [datum[\"age\"]] + [int(bust_list[0])] + body + bust + category + rent"
   ]
  },
  {
   "cell_type": "code",
   "execution_count": 39,
   "id": "30d0e3e8",
   "metadata": {},
   "outputs": [],
   "source": [
    "# Equalize number of small, fit, large labels in the data.\n",
    "small = [i for i in data if i[\"fit\"]==0]\n",
    "fit = [i for i in data if i[\"fit\"]==1]\n",
    "large = [i for i in data if i[\"fit\"]==2]\n",
    "\n",
    "\n",
    "random.shuffle(fit)\n",
    "data = small+fit[:19623]+large"
   ]
  },
  {
   "cell_type": "code",
   "execution_count": 40,
   "id": "cba1f8e2",
   "metadata": {},
   "outputs": [
    {
     "data": {
      "text/plain": [
       "58284"
      ]
     },
     "execution_count": 40,
     "metadata": {},
     "output_type": "execute_result"
    }
   ],
   "source": [
    "len(data)"
   ]
  },
  {
   "cell_type": "code",
   "execution_count": 41,
   "id": "d2432ff6",
   "metadata": {},
   "outputs": [],
   "source": [
    "X = [feat(d) for d in data]\n",
    "y = [d[\"fit\"] for d in data]\n",
    "\n",
    "X_train, X_test, y_train, y_test = train_test_split(X, y, test_size=0.20)"
   ]
  },
  {
   "cell_type": "code",
   "execution_count": 42,
   "id": "c1a960b1",
   "metadata": {},
   "outputs": [
    {
     "name": "stderr",
     "output_type": "stream",
     "text": [
      "/opt/conda/lib/python3.9/site-packages/sklearn/linear_model/_sag.py:328: ConvergenceWarning: The max_iter was reached which means the coef_ did not converge\n",
      "  warnings.warn(\"The max_iter was reached which means \"\n"
     ]
    }
   ],
   "source": [
    "model = sklearn.linear_model.LogisticRegression(solver=\"saga\", fit_intercept=True, multi_class='multinomial', C=0.1)\n",
    "model.fit(X_train, y_train)\n",
    "predictions = model.predict(X_test)"
   ]
  },
  {
   "cell_type": "code",
   "execution_count": 43,
   "id": "eea86703",
   "metadata": {},
   "outputs": [
    {
     "name": "stdout",
     "output_type": "stream",
     "text": [
      "Model Accuracy on validation set:\n"
     ]
    },
    {
     "data": {
      "text/plain": [
       "0.47979754653856055"
      ]
     },
     "execution_count": 43,
     "metadata": {},
     "output_type": "execute_result"
    }
   ],
   "source": [
    "print(\"Model Accuracy on validation set:\")\n",
    "sum([predictions[i]==y_test[i] for i in range(len(y_test))])/len(y_test)"
   ]
  },
  {
   "cell_type": "code",
   "execution_count": 44,
   "id": "2238a3e2",
   "metadata": {},
   "outputs": [
    {
     "data": {
      "text/plain": [
       "0.5922157211905368"
      ]
     },
     "execution_count": 44,
     "metadata": {},
     "output_type": "execute_result"
    }
   ],
   "source": [
    "# Accuracy of predictions when actual label was small\n",
    "sum([predictions[i]==y_test[i] for i in range(len(predictions)) if y_test[i] == 0])/len([i for i in y_test if i == 0])"
   ]
  },
  {
   "cell_type": "code",
   "execution_count": 45,
   "id": "3d78ff68",
   "metadata": {},
   "outputs": [
    {
     "data": {
      "text/plain": [
       "0.29395181957970273"
      ]
     },
     "execution_count": 45,
     "metadata": {},
     "output_type": "execute_result"
    }
   ],
   "source": [
    "# Accuracy of predictions when actual label was fit\n",
    "sum([predictions[i]==y_test[i] for i in range(len(predictions)) if y_test[i] == 1])/len([i for i in y_test if i == 1])"
   ]
  },
  {
   "cell_type": "code",
   "execution_count": 46,
   "id": "2ac6b3bd",
   "metadata": {},
   "outputs": [
    {
     "data": {
      "text/plain": [
       "0.5538702928870293"
      ]
     },
     "execution_count": 46,
     "metadata": {},
     "output_type": "execute_result"
    }
   ],
   "source": [
    "# Accuracy of predictions when actual label was large\n",
    "sum([predictions[i]==y_test[i] for i in range(len(predictions)) if y_test[i] == 2])/len([i for i in y_test if i == 2])"
   ]
  },
  {
   "cell_type": "code",
   "execution_count": 47,
   "id": "c4b7d4e8",
   "metadata": {},
   "outputs": [
    {
     "data": {
      "text/plain": [
       "array([2])"
      ]
     },
     "execution_count": 47,
     "metadata": {},
     "output_type": "execute_result"
    }
   ],
   "source": [
    "model.predict([feat(fit[0])])"
   ]
  },
  {
   "cell_type": "code",
   "execution_count": 48,
   "id": "9c1c0acc",
   "metadata": {},
   "outputs": [
    {
     "data": {
      "text/plain": [
       "{'fit': 1,\n",
       " 'user_id': '821540',\n",
       " 'bust size': '36-3',\n",
       " 'item_id': '1238932',\n",
       " 'weight': 150,\n",
       " 'rating': '8',\n",
       " 'rented for': 7,\n",
       " 'review_text': 'Pretty royal blue dress.  Fit comfortably, with a cute cutout.  Safe to wear a bra with.  ',\n",
       " 'body type': 3,\n",
       " 'review_summary': 'Comfortable, cute cut out',\n",
       " 'category': 16,\n",
       " 'height': 68,\n",
       " 'size': 12,\n",
       " 'age': 34,\n",
       " 'review_date': 'April 24, 2017'}"
      ]
     },
     "execution_count": 48,
     "metadata": {},
     "output_type": "execute_result"
    }
   ],
   "source": [
    "fit[0]"
   ]
  },
  {
   "cell_type": "code",
   "execution_count": 49,
   "id": "3219378d",
   "metadata": {},
   "outputs": [
    {
     "data": {
      "text/plain": [
       "{'fit': 2,\n",
       " 'user_id': '533900',\n",
       " 'bust size': '34-2',\n",
       " 'item_id': '130259',\n",
       " 'weight': 135,\n",
       " 'rating': '8',\n",
       " 'rented for': 7,\n",
       " 'review_text': \"This dress was absolutely gorgeous and I received so many compliments!  I wore it to a black tie NYE wedding, and even though it was short, I felt like the fabric, fit, and the way it sparkled made it fit in just fine with the other formal gowns.  I usually wear a 6 or an 8 in dresses.  I ordered a 4 and a 6, and true to other reviewers' comments, the 4 fit me very well.  The chest area was just a tad loose, but that typically happens when I try on dresses...nothing a more padded bra couldn't fix!  The cut and fit were very figure flattering.  By the end of the evening I experience a little chafing under my arms from the sequins, but that was after 5 hours and it was very minor.  Thank you RTR for a great first experience, I'll definitely be back!\",\n",
       " 'body type': 4,\n",
       " 'review_summary': \"Stunning dress, perfect for a New Year's Eve wedding!\",\n",
       " 'category': 16,\n",
       " 'height': 66,\n",
       " 'size': 8,\n",
       " 'age': 30,\n",
       " 'review_date': 'January 7, 2013'}"
      ]
     },
     "execution_count": 49,
     "metadata": {},
     "output_type": "execute_result"
    }
   ],
   "source": [
    "large[0]"
   ]
  },
  {
   "cell_type": "code",
   "execution_count": 50,
   "id": "ffb04ce3",
   "metadata": {},
   "outputs": [
    {
     "data": {
      "text/plain": [
       "{'fit': 0,\n",
       " 'user_id': '185966',\n",
       " 'bust size': '34-2',\n",
       " 'item_id': '1077123',\n",
       " 'weight': 135,\n",
       " 'rating': '8',\n",
       " 'rented for': 4,\n",
       " 'review_text': \"The dress arrived with a small hole in the beading on the front but wasn't too noticeable. Glad I was able to get two sizes because the 4 was a little tight and would've made for an uncomfortable night of dancing! \",\n",
       " 'body type': 1,\n",
       " 'review_summary': \"It was fun to wear a dress I wouldn't normally buy! \",\n",
       " 'category': 16,\n",
       " 'height': 63,\n",
       " 'size': 12,\n",
       " 'age': 33,\n",
       " 'review_date': 'January 2, 2018'}"
      ]
     },
     "execution_count": 50,
     "metadata": {},
     "output_type": "execute_result"
    }
   ],
   "source": [
    "small[0]"
   ]
  }
 ],
 "metadata": {
  "kernelspec": {
   "display_name": "Python 3 (clean)",
   "language": "python",
   "name": "python3_clean"
  },
  "language_info": {
   "codemirror_mode": {
    "name": "ipython",
    "version": 3
   },
   "file_extension": ".py",
   "mimetype": "text/x-python",
   "name": "python",
   "nbconvert_exporter": "python",
   "pygments_lexer": "ipython3",
   "version": "3.9.5"
  }
 },
 "nbformat": 4,
 "nbformat_minor": 5
}
